{
  "nbformat": 4,
  "nbformat_minor": 0,
  "metadata": {
    "colab": {
      "provenance": [],
      "authorship_tag": "ABX9TyOoAVzjWsFI8gpzJxVHTwL1",
      "include_colab_link": true
    },
    "kernelspec": {
      "name": "python3",
      "display_name": "Python 3"
    },
    "language_info": {
      "name": "python"
    }
  },
  "cells": [
    {
      "cell_type": "markdown",
      "metadata": {
        "id": "view-in-github",
        "colab_type": "text"
      },
      "source": [
        "<a href=\"https://colab.research.google.com/github/wlstjwlstj/basic_python221028/blob/main/basic_python221028.ipynb\" target=\"_parent\"><img src=\"https://colab.research.google.com/assets/colab-badge.svg\" alt=\"Open In Colab\"/></a>"
      ]
    },
    {
      "cell_type": "markdown",
      "source": [
        "(1) 사용자로부터 두 개의 정수를 받아서 정수의 합, 정수의 차, 정수의 곱, 정수의 펑균, 큰 수, 작은 수를 계산하여 화면에 출럭하는 프로그램을 작성하라. 파이썬이 제공하는 내장 함수 max(x, y), min(x, y)을 사용해보자."
      ],
      "metadata": {
        "id": "cIx7JjitdtwI"
      }
    },
    {
      "cell_type": "code",
      "execution_count": 1,
      "metadata": {
        "colab": {
          "base_uri": "https://localhost:8080/"
        },
        "id": "l-Z-0rv7aSOX",
        "outputId": "c348ecb0-969b-4ceb-a239-578e478bb838"
      },
      "outputs": [
        {
          "output_type": "stream",
          "name": "stdout",
          "text": [
            "x의 값은?:9\n",
            "y의 값은?:6\n",
            "두 수의 합은 : 15\n",
            "두 수의 차는 : 3\n",
            "두 수의 곱은 : 54\n",
            "두 수의 평균은 : 7.5\n",
            "두 수의 차는 : 3\n",
            "큰 수는 : 9\n",
            "작은 수는 : 6\n"
          ]
        }
      ],
      "source": [
        "x = int(input(\"x의 값은?:\"))\n",
        "y = int(input(\"y의 값은?:\"))\n",
        "\n",
        "print(\"두 수의 합은 :\", x+y)\n",
        "print(\"두 수의 차는 :\", x-y)\n",
        "print(\"두 수의 곱은 :\", x*y)\n",
        "print(\"두 수의 평균은 :\", (x+y)/2)\n",
        "print(\"두 수의 차는 :\", x-y)\n",
        "print(\"큰 수는 :\", max(x,y))\n",
        "print(\"작은 수는 :\", min(x,y))\n",
        "\n"
      ]
    },
    {
      "cell_type": "markdown",
      "source": [
        "(2) 기둥의 부피를 계산하는 프로그램을 작성해보자. 원기둥의 부피는 다음과 같이 계산 한다."
      ],
      "metadata": {
        "id": "auwBewvpeBYd"
      }
    },
    {
      "cell_type": "code",
      "source": [
        "r = float(input(\"r값은? :\"))\n",
        "h = float(input(\"h값은? :\"))\n",
        "\n",
        "vol= 3.141592 * r**2*h\n",
        "print(\"원기둥의 부피는 : \", vol)"
      ],
      "metadata": {
        "colab": {
          "base_uri": "https://localhost:8080/"
        },
        "id": "xSSwffygckrJ",
        "outputId": "3850a968-1b53-4563-9443-46879ba38382"
      },
      "execution_count": 2,
      "outputs": [
        {
          "output_type": "stream",
          "name": "stdout",
          "text": [
            "r값은? :10\n",
            "h값은? :10\n",
            "원기둥의 부피는 :  3141.592\n"
          ]
        }
      ]
    },
    {
      "cell_type": "markdown",
      "source": [
        "(3) 사용자로부터 정수를 받아서 정수의 자리수의 합을 계산하는 프로그램을 작성하여 보 \n",
        "자. 예릍 들어서 사용자가 1234를 입럭하였다면 1+2+3+4를 계산하면 된다. 나머지 연 산자와 정수 나눗셈 연산자 //를 적극적으로 사용해보자.(자리수는 number%10으로 계산할 수 있다. 10의 자리수는 number = number //10한 후에 동일한 처리를 되풀이 한다. 단 반복문은 사용하지 않는다.)"
      ],
      "metadata": {
        "id": "a0jbuR67elUV"
      }
    },
    {
      "cell_type": "code",
      "source": [
        "number = int(input(\"정수를 입력하시요: \"))\n",
        "\n",
        "sum = 0\n",
        "sum = sum + number % 10\n",
        "number = number // 10\n",
        "\n",
        "sum = sum + number % 10\n",
        "number = number // 10\n",
        "\n",
        "sum = sum + number % 10\n",
        "number = number // 10\n",
        "\n",
        "sum = sum + number % 10\n",
        "number = number // 10\n",
        "\n",
        "print(\"자리수의 합은? :\",str(sum) )"
      ],
      "metadata": {
        "colab": {
          "base_uri": "https://localhost:8080/"
        },
        "id": "_E42UR7dfOcY",
        "outputId": "cc815c22-f5fa-4af7-e80b-8685942e667a"
      },
      "execution_count": 3,
      "outputs": [
        {
          "output_type": "stream",
          "name": "stdout",
          "text": [
            "정수를 입력하시요: 1234\n",
            "자리수의 합은? : 10\n"
          ]
        }
      ]
    },
    {
      "cell_type": "markdown",
      "source": [
        "(4) 사용자로부터 두 점의 좌표 (x1, y1)과 (x2, y2)를 입럭받아서 두 점 사이의 거리를 계산하는 프로그램을 작성해보자. 스크립트 모드로 작성하라. 거리는 다음 식으로 계산한다."
      ],
      "metadata": {
        "id": "oguFu4nShJR7"
      }
    },
    {
      "cell_type": "code",
      "source": [
        "x1 =int(input(\"x1값을 입력하시오. :  \"))\n",
        "y1= int(input(\"y1값을 입력하시오. :  \"))\n",
        "x2= int(input(\"x2값을 입력하시오. :  \"))\n",
        "y2= int(input(\"y2값을 입력하시오. :  \"))\n",
        "dist = ((x2-x1)**2 + (y2-y1)**2)**0.5\n",
        "print(\"두 점 사이의 거리는?\" , dist , \"입니다.\")"
      ],
      "metadata": {
        "colab": {
          "base_uri": "https://localhost:8080/"
        },
        "id": "pwCcfkBqh5La",
        "outputId": "6daae6db-09b8-41e4-8ea2-7035267801f8"
      },
      "execution_count": 4,
      "outputs": [
        {
          "output_type": "stream",
          "name": "stdout",
          "text": [
            "x1값을 입력하시오. :  0\n",
            "y1값을 입력하시오. :  0\n",
            "x2값을 입력하시오. :  100\n",
            "y2값을 입력하시오. :  100\n",
            "두 점 사이의 거리는? 141.4213562373095 입니다.\n"
          ]
        }
      ]
    },
    {
      "cell_type": "markdown",
      "source": [
        "(5) 4번문제에서 계산한 거리가 맞는지, 터틀그래픽으로 확인해보자. 거북이를 읜쪽으로 45도 회전하여 141만큼 전진시킨다. 다시 거북이를 (0,0)으로 이동하고 0도를 가리키게 한 후에 100만큼 전진하고 왼쪽으로 90도 회전하여 \n",
        "100만큼 전진한다. 화면에 그러진 직선이 일치하는가? (거북이의 방향을 설정하려면 setheading()을 사용하는 것이 편리하다. 예를 들어서 0도를 가리키게 하려면 setheading(0)이 된다.)"
      ],
      "metadata": {
        "id": "f7B6mnzfm-A-"
      }
    },
    {
      "cell_type": "code",
      "source": [
        "import turtle\n",
        "t=turtle.Turtle()\n",
        "t.shape(\"turtle\")\n",
        "t.left(45)\n",
        "t.forward(141)\n",
        "t.setheading(0)\n",
        "t.goto(0,0)\n",
        "t.fd(100)\n",
        "t.lt(90)\n",
        "t.fd(100)\n",
        "\n"
      ],
      "metadata": {
        "id": "ZzAEGw_Angjn"
      },
      "execution_count": null,
      "outputs": []
    },
    {
      "cell_type": "markdown",
      "source": [
        "(6) "
      ],
      "metadata": {
        "id": "ORKvQzyVpVzi"
      }
    },
    {
      "cell_type": "code",
      "source": [
        "import turtle\n",
        "t  = turtle.Turtle()\n",
        "t. shape(\"turtle\")\n",
        "x1 = int(input(\"x1 : \"))\n",
        "x1 : 0\n",
        "y1 = int(input(\"y1 : \"))\n",
        "y1 : 0\n",
        "x2 = int(input(\"x2 : \"))\n",
        "x2 : 100\n",
        "y2 = int(input(\"y2 : \"))\n",
        "y2 : 100\n",
        "dist = ((x1-x2)**2 + (y1-y2)**2)**0.5\n",
        "t.up()\n",
        "\n",
        "t.goto(x1,y1)\n",
        "\n",
        "t.down()\n",
        "\n",
        "t.goto(x2,y2)\n"
      ],
      "metadata": {
        "id": "8CnZasM0r6Te"
      },
      "execution_count": null,
      "outputs": []
    }
  ]
}